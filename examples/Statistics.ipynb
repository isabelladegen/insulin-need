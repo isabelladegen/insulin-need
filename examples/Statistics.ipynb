{
 "cells": [
  {
   "cell_type": "markdown",
   "source": [
    "# Example on how to use the code to plot simple statistics\n",
    "These methods calculate and visualise basic the confidence intervals, violin plots and box plots of the data.\n",
    "\n",
    "You can compare how the distibutions change depending on various **sampling**:\n",
    "* Irregular Sampling: no sample has been dropped other than those that wore all NaN or duplicated.\n",
    "* Hourly Sampling: the data is downsampled to one reading per hour. The downsampled values are aggregated by mean, max, min or std IOB, COB or BG. Hours that didn't have at least one reading are not included.\n",
    "* Daily Sampling: the data is downsampled to one reading per day. The downsampled values are aggregated by mean, max, min or std IOB, COB or BG. Days that did not have at least one reading every 3h are not included.\n",
    "\n",
    "As many TS methods require regular and equal length time series. The various sampled data can be translated into the following different time series:\n",
    "* Irregular time series: no resampling into a time series is done\n",
    "* Daily time series: each day that has at least one reading for each hour forms a daily time series\n",
    "* Weekly time series: each calendar week that has at least one reading for each day of the week forms a weekly time series\n",
    "\n",
    "Pre-requisition:\n",
    "You need to generate the required .csv files from the raw dataset for this to works. See documentation on how to do that."
   ],
   "metadata": {
    "collapsed": false
   }
  },
  {
   "cell_type": "code",
   "execution_count": null,
   "outputs": [],
   "source": [
    "from src.configurations import Irregular, Hourly, Daily, GeneralisedCols, Configuration\n",
    "from src.read_preprocessed_df import ReadPreprocessedDataFrame\n",
    "from src.stats import Stats\n",
    "from src.translate_into_timeseries import TimeColumns, TranslateIntoTimeseries, IrregularTimeseries, DailyTimeseries, WeeklyTimeseries"
   ],
   "metadata": {
    "collapsed": false
   }
  },
  {
   "cell_type": "code",
   "execution_count": null,
   "outputs": [],
   "source": [
    "# read data\n",
    "zip_id = '' # set a zip ID, if put this to none than the df will contain all the zip ids of all the people in the dataset\n",
    "irregular_sampling = Irregular()\n",
    "irregular_raw_df = ReadPreprocessedDataFrame(sampling=irregular_sampling, zip_id=zip_id).df\n",
    "\n",
    "hourly_sampling = Hourly()\n",
    "hourly_raw_df = ReadPreprocessedDataFrame(sampling=hourly_sampling, zip_id=zip_id).df\n",
    "\n",
    "daily_sampling = Daily()\n",
    "daily_raw_df = ReadPreprocessedDataFrame(sampling=daily_sampling, zip_id=zip_id).df"
   ],
   "metadata": {
    "collapsed": false
   }
  },
  {
   "cell_type": "code",
   "execution_count": null,
   "outputs": [],
   "source": [
    "# other configs\n",
    "value_columns_not_resampled = [GeneralisedCols.iob, GeneralisedCols.cob, GeneralisedCols.bg]\n",
    "all_time_columns = [TimeColumns.hour, TimeColumns.week_day, TimeColumns.month, TimeColumns.year]\n",
    "mean_iob_cob_bg_cols = Configuration.resampled_mean_columns()\n",
    "\n",
    "daily_ts = DailyTimeseries()  # only full days of data are kept as a ts for each day\n",
    "weekly_ts = WeeklyTimeseries()  # only full calendar weeks of data are kept as a ts per week\n",
    "irregular_ts = IrregularTimeseries()  # what ever sampling has been done is kept but no further reshaping into ts is done"
   ],
   "metadata": {
    "collapsed": false
   }
  },
  {
   "cell_type": "markdown",
   "source": [
    "## Confidence intervals, violin plots and box plots for processed raw data\n",
    "\n",
    "Irregular original data, preprocessed to avoid NaN and duplicated values, not shaped into a time series"
   ],
   "metadata": {
    "collapsed": false
   }
  },
  {
   "cell_type": "code",
   "execution_count": null,
   "outputs": [],
   "source": [
    "translate = TranslateIntoTimeseries(irregular_raw_df, irregular_ts, value_columns_not_resampled)\n",
    "stats = Stats(translate.processed_df, irregular_sampling, irregular_ts, all_time_columns, value_columns_not_resampled)\n",
    "\n",
    "stats.plot_confidence_interval()\n",
    "stats.plot_violin_plot()\n",
    "stats.plot_box_plot()"
   ],
   "metadata": {
    "collapsed": false
   }
  },
  {
   "cell_type": "markdown",
   "source": [
    "## Confidence intervals, violin plots and box plots for hourly sampled data\n",
    "\n",
    "1) Data shaped into daily time series from hourly sampled data"
   ],
   "metadata": {
    "collapsed": false
   }
  },
  {
   "cell_type": "code",
   "execution_count": null,
   "outputs": [],
   "source": [
    "translate = TranslateIntoTimeseries(hourly_raw_df, daily_ts, mean_iob_cob_bg_cols)\n",
    "stats = Stats(translate.processed_df, hourly_sampling, daily_ts, all_time_columns, mean_iob_cob_bg_cols)\n",
    "\n",
    "stats.plot_confidence_interval()\n",
    "stats.plot_violin_plot()\n",
    "stats.plot_box_plot()"
   ],
   "metadata": {
    "collapsed": false
   }
  },
  {
   "cell_type": "markdown",
   "source": [
    "2) Data sampled into hourly samples but not shaped into a ts"
   ],
   "metadata": {
    "collapsed": false
   }
  },
  {
   "cell_type": "code",
   "execution_count": null,
   "outputs": [],
   "source": [
    "translate = TranslateIntoTimeseries(hourly_raw_df, irregular_ts, mean_iob_cob_bg_cols)\n",
    "stats = Stats(translate.processed_df, hourly_sampling, irregular_ts, all_time_columns, mean_iob_cob_bg_cols)\n",
    "\n",
    "stats.plot_confidence_interval()\n",
    "stats.plot_violin_plot()\n",
    "stats.plot_box_plot()"
   ],
   "metadata": {
    "collapsed": false
   }
  },
  {
   "cell_type": "markdown",
   "source": [
    "## Confidence intervals, violin plots and box plots for daily sampled data\n",
    "\n",
    "1) Data shaped into weekly time series from daily sampled data"
   ],
   "metadata": {
    "collapsed": false
   }
  },
  {
   "cell_type": "code",
   "execution_count": null,
   "outputs": [],
   "source": [
    "translate = TranslateIntoTimeseries(daily_raw_df, weekly_ts, mean_iob_cob_bg_cols)\n",
    "stats = Stats(translate.processed_df, daily_sampling, weekly_ts, all_time_columns, mean_iob_cob_bg_cols)\n",
    "\n",
    "stats.plot_confidence_interval()\n",
    "stats.plot_violin_plot()\n",
    "stats.plot_box_plot()"
   ],
   "metadata": {
    "collapsed": false
   }
  },
  {
   "cell_type": "markdown",
   "source": [
    "2) Data sampled daily but not shaped into any ts"
   ],
   "metadata": {
    "collapsed": false
   }
  },
  {
   "cell_type": "code",
   "execution_count": null,
   "outputs": [],
   "source": [
    "translate = TranslateIntoTimeseries(daily_raw_df, irregular_ts, mean_iob_cob_bg_cols)\n",
    "stats = Stats(translate.processed_df, daily_sampling, irregular_ts, all_time_columns, mean_iob_cob_bg_cols)\n",
    "\n",
    "stats.plot_confidence_interval()\n",
    "stats.plot_violin_plot()\n",
    "stats.plot_box_plot()"
   ],
   "metadata": {
    "collapsed": false
   }
  },
  {
   "cell_type": "code",
   "execution_count": null,
   "outputs": [],
   "source": [],
   "metadata": {
    "collapsed": false
   }
  }
 ],
 "metadata": {
  "kernelspec": {
   "display_name": "Python 3",
   "language": "python",
   "name": "python3"
  },
  "language_info": {
   "codemirror_mode": {
    "name": "ipython",
    "version": 2
   },
   "file_extension": ".py",
   "mimetype": "text/x-python",
   "name": "python",
   "nbconvert_exporter": "python",
   "pygments_lexer": "ipython2",
   "version": "2.7.6"
  }
 },
 "nbformat": 4,
 "nbformat_minor": 0
}
