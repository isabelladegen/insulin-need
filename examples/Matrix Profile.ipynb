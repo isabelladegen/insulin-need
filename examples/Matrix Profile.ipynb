{
 "cells": [
  {
   "cell_type": "markdown",
   "source": [
    "# Examples on how to use the code for the matrix profile"
   ],
   "metadata": {
    "collapsed": false
   }
  },
  {
   "cell_type": "code",
   "execution_count": null,
   "outputs": [],
   "source": [
    "from src.configurations import GeneralisedCols\n",
    "from src.matrix_profile import MatrixProfile\n",
    "from src.read_preprocessed_df import ReadPreprocessedDataFrame\n",
    "from src.configurations import Daily\n",
    "from src.translate_into_timeseries import TranslateIntoTimeseries, WeeklyTimeseries"
   ],
   "metadata": {
    "collapsed": false
   }
  },
  {
   "cell_type": "markdown",
   "source": [
    "## Read resampled data\n",
    "\n",
    "The matrix profile needs to have regular continuous time series to find motives in that series"
   ],
   "metadata": {
    "collapsed": false
   }
  },
  {
   "cell_type": "code",
   "execution_count": null,
   "outputs": [],
   "source": [
    "zip_id = '' # set to a valid zip id\n",
    "# read daily resampled data for zip id\n",
    "raw_df = ReadPreprocessedDataFrame(sampling=Daily(), zip_id=zip_id).df\n",
    "\n",
    "variate = GeneralisedCols.mean_iob\n",
    "# translate resampled data into weekly time series\n",
    "translate = TranslateIntoTimeseries(raw_df, WeeklyTimeseries(), [variate])\n",
    "# split resulting dataframe into frames of continuous weeks (MP cannot deal with various length gaps between times\n",
    "continuous_ts_dfs = translate.to_continuous_time_series_dfs()\n",
    "\n",
    "# find values and times for the longest continuous series of weeks\n",
    "values, times = MatrixProfile.get_longest_series_values_times(continuous_ts_dfs, variate)"
   ],
   "metadata": {
    "collapsed": false
   }
  },
  {
   "cell_type": "markdown",
   "source": [
    "## Matrix Profile"
   ],
   "metadata": {
    "collapsed": false
   }
  },
  {
   "cell_type": "code",
   "execution_count": null,
   "outputs": [],
   "source": [
    "m = 7  # m window size, 7 days = weekly motives\n",
    "matrix_profile = MatrixProfile(times, values, m)"
   ],
   "metadata": {
    "collapsed": false
   }
  },
  {
   "cell_type": "code",
   "execution_count": null,
   "outputs": [],
   "source": [
    "# plot motive at x\n",
    "x = 0  # 0 = motif with the lowest distance (most like another bit of the ts)\n",
    "matrix_profile.plot_ts_motif_and_profile(x, variate, \"Datetime\", False)\n",
    "matrix_profile.describe_motif_x(x) # prints distance and other useful information about the motive"
   ],
   "metadata": {
    "collapsed": false
   }
  },
  {
   "cell_type": "code",
   "execution_count": null,
   "outputs": [],
   "source": [
    "# find all motifs with a distance less than max_distance\n",
    "max_distance = 2.33 # you can calculate the possible max distance, use that to set this number\n",
    "min_neighbours = 1 # see stumpy for more details\n",
    "\n",
    "#this just returns the motives\n",
    "motif_distances, motive_indices = matrix_profile.top_motives(max_distance, min_neighbours)\n",
    "\n",
    "#this plots them\n",
    "matrix_profile.plot_top_motives_for_max_distance_and_min_neighbours(variate, \"Datetime\",\n",
    "                                                                    max_distance, min_neighbours, show_mp=True)"
   ],
   "metadata": {
    "collapsed": false
   }
  },
  {
   "cell_type": "code",
   "execution_count": null,
   "outputs": [],
   "source": [
    "# find the window that is least like any other sequence in the time series\n",
    "x = matrix_profile.least_similar_x()\n",
    "matrix_profile.plot_ts_motif_and_profile(x, variate, \"Datetime\")\n",
    "matrix_profile.describe_motif_x(x)"
   ],
   "metadata": {
    "collapsed": false
   }
  },
  {
   "cell_type": "markdown",
   "source": [
    "### Convenient methods"
   ],
   "metadata": {
    "collapsed": false
   }
  },
  {
   "cell_type": "code",
   "execution_count": null,
   "outputs": [],
   "source": [
    "# describes the series that went in\n",
    "matrix_profile.describe_time_series()"
   ],
   "metadata": {
    "collapsed": false
   }
  },
  {
   "cell_type": "code",
   "execution_count": null,
   "outputs": [],
   "source": [
    "# to calculate what the maximum possible distance is for your m\n",
    "matrix_profile.max_possible_distance()"
   ],
   "metadata": {
    "collapsed": false
   }
  },
  {
   "cell_type": "code",
   "execution_count": null,
   "outputs": [],
   "source": [
    "# to print information about the motiv at index x\n",
    "matrix_profile.describe_motif_x(x)"
   ],
   "metadata": {
    "collapsed": false
   }
  }
 ],
 "metadata": {
  "kernelspec": {
   "display_name": "Python 3",
   "language": "python",
   "name": "python3"
  },
  "language_info": {
   "codemirror_mode": {
    "name": "ipython",
    "version": 2
   },
   "file_extension": ".py",
   "mimetype": "text/x-python",
   "name": "python",
   "nbconvert_exporter": "python",
   "pygments_lexer": "ipython2",
   "version": "2.7.6"
  }
 },
 "nbformat": 4,
 "nbformat_minor": 0
}
