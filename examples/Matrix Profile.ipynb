{
 "cells": [
  {
   "cell_type": "markdown",
   "source": [
    "# Examples on how to use the code for the matrix profile"
   ],
   "metadata": {
    "collapsed": false
   }
  },
  {
   "cell_type": "code",
   "execution_count": null,
   "outputs": [],
   "source": [
    "from src.configurations import Configuration\n",
    "from src.continuous_series import ContinuousSeries\n",
    "from src.helper import device_status_file_path_for\n",
    "from src.matrix_profile import MatrixProfile\n",
    "from src.read import read_flat_device_status_df_from_file\n",
    "from src.stats import Sampling"
   ],
   "metadata": {
    "collapsed": false
   }
  },
  {
   "cell_type": "markdown",
   "source": [
    "## Read data"
   ],
   "metadata": {
    "collapsed": false
   }
  },
  {
   "cell_type": "code",
   "execution_count": null,
   "outputs": [],
   "source": [
    "zip_id = '' # set to a valid zip id\n",
    "file_path = device_status_file_path_for(Configuration().perid_data_folder, zip_id)\n",
    "full_df = read_flat_device_status_df_from_file(file_path, Configuration())"
   ],
   "metadata": {
    "collapsed": false
   }
  },
  {
   "cell_type": "markdown",
   "source": [
    "## Resample data"
   ],
   "metadata": {
    "collapsed": false
   }
  },
  {
   "cell_type": "code",
   "execution_count": null,
   "outputs": [],
   "source": [
    "max_interval = 180  # how frequent readings need per day, 60=every hour, 180=every three hours\n",
    "min_days_of_data = 30  # how many days of consecutive readings with at least a reading every interval\n",
    "time_col = Sampling.time_col # change this if you want to use another time column in the df\n",
    "value_col = Sampling.iob_col # change this if you want to read another colum in the df\n",
    "sample_rule = '1D' # see pandas doc for this, here 1 reading per day\n",
    "\n",
    "# this is an array of all the continuous series available for the configurations above\n",
    "series = ContinuousSeries(full_df, min_days_of_data, max_interval, time_col, value_col, sample_rule)"
   ],
   "metadata": {
    "collapsed": false
   }
  },
  {
   "cell_type": "code",
   "execution_count": null,
   "outputs": [],
   "source": [
    "# to get some details run\n",
    "series.describe()"
   ],
   "metadata": {
    "collapsed": false
   }
  },
  {
   "cell_type": "markdown",
   "source": [
    "## Matrix Profile"
   ],
   "metadata": {
    "collapsed": false
   }
  },
  {
   "cell_type": "code",
   "execution_count": null,
   "outputs": [],
   "source": [
    "m = 7  # m window size, 7 days = weekly motives\n",
    "resample_col = 'mean'  # which of the aggregated resample columns to take, options std, min, max, mean\n",
    "cont_series = -1 #index to ContinuousSeries, -1 takes the last in the array, see describe outcome for more information\n",
    "times, values = series.get_resampled_x_and_y_for(cont_series, resample_col)\n",
    "matrix_profile = MatrixProfile(times, values, m)"
   ],
   "metadata": {
    "collapsed": false
   }
  },
  {
   "cell_type": "code",
   "execution_count": null,
   "outputs": [],
   "source": [
    "# plot motive at x\n",
    "x = 0  # 0 = motif with the lowest distance (most like another bit of the ts)\n",
    "matrix_profile.plot_ts_motif_and_profile(x, resample_col + ' ' + value_col, time_col, False)\n",
    "matrix_profile.describe_motif_x(x) # prints distance and other useful information about the motive"
   ],
   "metadata": {
    "collapsed": false
   }
  },
  {
   "cell_type": "code",
   "execution_count": null,
   "outputs": [],
   "source": [
    "# find all motifs with a distance less than max_distance\n",
    "max_distance = 2.33 # you can calculate the possible max distance, use that to set this number\n",
    "min_neighbours = 1 # see stumpy for more details\n",
    "\n",
    "#this just returns the motives\n",
    "motif_distances, motive_indices = matrix_profile.top_motives(max_distance, min_neighbours)\n",
    "\n",
    "#this plots them\n",
    "matrix_profile.plot_top_motives_for_max_distance_and_min_neighbours(resample_col + ' ' + value_col, time_col,\n",
    "                                                                    max_distance, min_neighbours, show_mp=True)"
   ],
   "metadata": {
    "collapsed": false
   }
  },
  {
   "cell_type": "code",
   "execution_count": null,
   "outputs": [],
   "source": [
    "# find the window that is least like any other sequence in the time series\n",
    "x = matrix_profile.least_similar_x()\n",
    "matrix_profile.plot_ts_motif_and_profile(x, resample_col + ' ' + value_col, time_col)\n",
    "matrix_profile.describe_motif_x(x)"
   ],
   "metadata": {
    "collapsed": false
   }
  },
  {
   "cell_type": "markdown",
   "source": [
    "### Convenient methods"
   ],
   "metadata": {
    "collapsed": false
   }
  },
  {
   "cell_type": "code",
   "execution_count": null,
   "outputs": [],
   "source": [
    "# describes the series that went in\n",
    "matrix_profile.describe_time_series()"
   ],
   "metadata": {
    "collapsed": false
   }
  },
  {
   "cell_type": "code",
   "execution_count": null,
   "outputs": [],
   "source": [
    "# to calculate what the maximum possible distance is for your m\n",
    "matrix_profile.max_possible_distance()"
   ],
   "metadata": {
    "collapsed": false
   }
  },
  {
   "cell_type": "code",
   "execution_count": null,
   "outputs": [],
   "source": [
    "# to print information about the motiv at index x\n",
    "matrix_profile.describe_motif_x(x)"
   ],
   "metadata": {
    "collapsed": false
   }
  }
 ],
 "metadata": {
  "kernelspec": {
   "display_name": "Python 3",
   "language": "python",
   "name": "python3"
  },
  "language_info": {
   "codemirror_mode": {
    "name": "ipython",
    "version": 2
   },
   "file_extension": ".py",
   "mimetype": "text/x-python",
   "name": "python",
   "nbconvert_exporter": "python",
   "pygments_lexer": "ipython2",
   "version": "2.7.6"
  }
 },
 "nbformat": 4,
 "nbformat_minor": 0
}
