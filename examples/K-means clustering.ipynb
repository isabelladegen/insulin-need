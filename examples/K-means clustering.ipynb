{
 "cells": [
  {
   "cell_type": "markdown",
   "source": [
    "# Examples on how to use the code for K-means clustering"
   ],
   "metadata": {
    "collapsed": false
   }
  },
  {
   "cell_type": "code",
   "execution_count": null,
   "outputs": [],
   "source": [
    "from src.continuous_series import Cols\n",
    "from src.stats import DailyTimeseries\n",
    "from src.timeseries_kmeans_clustering import TimeSeriesKMeansClustering\n",
    "from src.timeseries_kmeans_crossvalidation import TimeSeriesKMeansClusteringCrossValidation\n",
    "from src.reshape_resampled_data_into_timeseries import ReshapeResampledDataIntoTimeseries\n",
    "from src.configurations import Hourly, Configuration, GeneralisedCols\n",
    "from src.read_preprocessed_df import ReadPreprocessedDataFrame"
   ],
   "metadata": {
    "collapsed": false
   }
  },
  {
   "cell_type": "markdown",
   "source": [
    "## Multivariate clustering"
   ],
   "metadata": {
    "collapsed": false
   }
  },
  {
   "cell_type": "markdown",
   "source": [
    "### Read the data - examples of different configurations given"
   ],
   "metadata": {
    "collapsed": false
   }
  },
  {
   "cell_type": "code",
   "execution_count": null,
   "outputs": [],
   "source": [
    "# data to read\n",
    "zip_id = ''  # provide a string of the zip_id you want to cluster\n",
    "\n",
    "# resampling rules, alternative src.stats.WeeklyTimeseries\n",
    "daily_ts = DailyTimeseries()  # clusters mean 'daily' time series that have 24 datapoints with at least a reading every 60min\n",
    "\n",
    "# how to aggregate value if there is more than one value in a re sampling interval, alternatives: std, min, max\n",
    "col_to_cluster = Cols.Mean\n",
    "\n",
    "# read hourly resampled data for zip id\n",
    "raw_df = ReadPreprocessedDataFrame(sampling=Hourly(), zip_id=zip_id).df\n",
    "\n",
    "# which variates to use. Here mean iob, mean cob, mean bg\n",
    "variates = Configuration.resampled_mean_columns()\n",
    "\n",
    "# class to translate the resampled data into x train and provides other convenient functions\n",
    "translate = ReshapeResampledDataIntoTimeseries(raw_df, daily_ts, variates)"
   ],
   "metadata": {
    "collapsed": false
   }
  },
  {
   "cell_type": "markdown",
   "source": [
    "### Cluster the data"
   ],
   "metadata": {
    "collapsed": false
   }
  },
  {
   "cell_type": "code",
   "execution_count": null,
   "outputs": [],
   "source": [
    "# create 3d numpy array for x_train of shape (n_ts, ts_length, dimensions)\n",
    "x_train = translate.to_x_train()\n",
    "\n",
    "# cluster data\n",
    "n_cluster = 2\n",
    "km = TimeSeriesKMeansClustering(n_clusters=n_cluster, x_train=x_train, x_train_column_names=['IOB', 'COB', 'BG'],\n",
    "                                timeseries_description=daily_ts)"
   ],
   "metadata": {
    "collapsed": false
   }
  },
  {
   "cell_type": "markdown",
   "source": [
    "### Different visualisations of the clusters"
   ],
   "metadata": {
    "collapsed": false
   }
  },
  {
   "cell_type": "code",
   "execution_count": null,
   "outputs": [],
   "source": [
    "# all three barycenters for each cluster -> n_cluster plots\n",
    "km.plot_barrycenters_of_different_cols_in_one_plot(col_to_cluster, show_title=False, show_legend=False,\n",
    "                                                   show_overall_labels=False)"
   ],
   "metadata": {
    "collapsed": false
   }
  },
  {
   "cell_type": "code",
   "execution_count": null,
   "outputs": [],
   "source": [
    "# time series and barycenters in each cluster -> n_cluster plots\n",
    "km.plot_clusters_in_grid(col_to_cluster)"
   ],
   "metadata": {
    "collapsed": false
   }
  },
  {
   "cell_type": "code",
   "execution_count": null,
   "outputs": [],
   "source": [
    "# all barycenters for each dimension -> n_clusters x 3 plots\n",
    "km.plot_barry_centers_in_one_plot(col_to_cluster)"
   ],
   "metadata": {
    "collapsed": false
   }
  },
  {
   "cell_type": "markdown",
   "source": [
    "### Find best number of clusters k"
   ],
   "metadata": {
    "collapsed": false
   }
  },
  {
   "cell_type": "code",
   "execution_count": null,
   "outputs": [],
   "source": [
    "# plot mean silhouette scores for ks\n",
    "ks = [2, 3, 4, 5, 6, 7, 8, 9, 10, 11, 12, 13]\n",
    "km.plot_mean_silhouette_score_for_k(ks)"
   ],
   "metadata": {
    "collapsed": false
   }
  },
  {
   "cell_type": "code",
   "execution_count": null,
   "outputs": [],
   "source": [
    "# plot sum of square distances for ks (elbow method)\n",
    "ks = range(2, 50, 2)\n",
    "km.plot_sum_of_square_distances_for_k(ks)"
   ],
   "metadata": {
    "collapsed": false
   }
  },
  {
   "cell_type": "code",
   "execution_count": null,
   "outputs": [],
   "source": [
    "# plot silhouette blob for ks - looks best for only 4 different ks\n",
    "ks = [2, 8, 12, 16]\n",
    "km.plot_silhouette_blob_for_k(ks=ks)"
   ],
   "metadata": {
    "collapsed": false
   }
  },
  {
   "cell_type": "markdown",
   "source": [
    "## Single variate Clustering\n",
    "Reading the data is the same as above, obtaining x_train to cluster is different.\n",
    "Visualisation and finding the best k is the same too\n"
   ],
   "metadata": {
    "collapsed": false
   }
  },
  {
   "cell_type": "markdown",
   "source": [
    "### Cluster the data"
   ],
   "metadata": {
    "collapsed": false
   }
  },
  {
   "cell_type": "code",
   "execution_count": null,
   "outputs": [],
   "source": [
    "ts_variate = GeneralisedCols.mean_iob.value  # which variate to cluster by; here IOB\n",
    "x_train_sv = translate.to_x_train(cols=[ts_variate])\n",
    "x_full = translate.to_x_train()  # this is the same as x train above and used to plot the other variates time series that were not used for the clustering\n",
    "\n",
    "km_sv = TimeSeriesKMeansClustering(n_clusters=n_cluster, x_train=x_train_sv, x_train_column_names=[ts_variate],\n",
    "                                   timeseries_description=daily_ts, x_full=x_full, x_full_column_names=[\"IOB\", \"COB\", \"BG\"])"
   ],
   "metadata": {
    "collapsed": false
   }
  },
  {
   "cell_type": "markdown",
   "source": [
    "# Changing Distance Metric\n",
    "By default, TimeSeriesKMeansClustering uses DTW as distance measure. You can provide additional parameters to e.g. specify a Sakoe Chiba band. See tslearn for more details. While you can specify different distance metrics atm you cannot change the plots from DBA barycenters which might not be appropriate for your distance measure."
   ],
   "metadata": {
    "collapsed": false
   }
  },
  {
   "cell_type": "code",
   "execution_count": null,
   "outputs": [],
   "source": [
    "distance_params = {\"global_constraint\": \"sakoe_chiba\",\n",
    "                   \"sakoe_chiba_radius\": 2}\n",
    "metric = \"dtw\"\n",
    "km_sk = TimeSeriesKMeansClustering(n_clusters=n_cluster, x_train=x_train, x_train_column_names=[\"IOB\", \"COB\", \"BG\"],\n",
    "                                   timeseries_description=daily_ts, distance_metric=metric, metric_prams=distance_params)"
   ],
   "metadata": {
    "collapsed": false
   }
  },
  {
   "cell_type": "markdown",
   "source": [
    "# K-fold validation\n",
    "To validate that your results are consistent even if you randomly drop a few time series you can use the\n",
    "TimeSeriesKMeansClusteringCrossValidation convenience class to run a k-fold like clustering. Note atm you cannot change all the defaults (distance metrics, variates to cluster by). Doing that would be simple to implement - just need to provide parameters"
   ],
   "metadata": {
    "collapsed": false
   }
  },
  {
   "cell_type": "markdown",
   "source": [
    "### Calculate the cluster dropping one fold each time"
   ],
   "metadata": {
    "collapsed": false
   }
  },
  {
   "cell_type": "code",
   "execution_count": null,
   "outputs": [],
   "source": [
    "# this is for multivariate clustering\n",
    "n_folds =   # choose such that n_ts/n_folds is a whole number, usually k is around 10\n",
    "val = TimeSeriesKMeansClusteringCrossValidation(n_fold=n_folds, n_clusters=2, x_train=x_train,\n",
    "                                                x_train_column_names=['IOB', 'COB', 'BG'], timeseries_description=daily_ts)"
   ],
   "metadata": {
    "collapsed": false
   }
  },
  {
   "cell_type": "markdown",
   "source": [
    "### Visualise the results for each of the n_fold clusters"
   ],
   "metadata": {
    "collapsed": false
   }
  },
  {
   "cell_type": "code",
   "execution_count": null,
   "outputs": [],
   "source": [
    "val.plot_barycenters_for_each_model()"
   ],
   "metadata": {
    "collapsed": false
   }
  },
  {
   "cell_type": "markdown",
   "source": [
    "### Calculate the silhouette score for each of the models"
   ],
   "metadata": {
    "collapsed": false
   }
  },
  {
   "cell_type": "code",
   "execution_count": null,
   "outputs": [],
   "source": [
    "sil_scores = val.silhouette_scores()"
   ],
   "metadata": {
    "collapsed": false
   }
  },
  {
   "cell_type": "code",
   "execution_count": null,
   "outputs": [],
   "source": [],
   "metadata": {
    "collapsed": false
   }
  }
 ],
 "metadata": {
  "kernelspec": {
   "display_name": "Python 3",
   "language": "python",
   "name": "python3"
  },
  "language_info": {
   "codemirror_mode": {
    "name": "ipython",
    "version": 2
   },
   "file_extension": ".py",
   "mimetype": "text/x-python",
   "name": "python",
   "nbconvert_exporter": "python",
   "pygments_lexer": "ipython2",
   "version": "2.7.6"
  }
 },
 "nbformat": 4,
 "nbformat_minor": 0
}
