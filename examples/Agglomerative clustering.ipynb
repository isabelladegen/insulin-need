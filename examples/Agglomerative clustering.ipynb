{
 "cells": [
  {
   "cell_type": "markdown",
   "source": [
    "# Examples on how to use the code for Agglomerative clustering"
   ],
   "metadata": {
    "collapsed": false
   }
  },
  {
   "cell_type": "code",
   "execution_count": null,
   "outputs": [],
   "source": [
    "from src.agglomerative_dtw_clustering import AgglomerativeTSClustering\n",
    "from src.continuous_series import Cols\n",
    "from src.stats import DailyTimeseries\n",
    "from src.reshape_resampled_data_into_timeseries import ReshapeResampledDataIntoTimeseries\n",
    "from src.configurations import Hourly, Configuration, GeneralisedCols\n",
    "from src.read_preprocessed_df import ReadPreprocessedDataFrame"
   ],
   "metadata": {
    "collapsed": false
   }
  },
  {
   "cell_type": "markdown",
   "source": [
    "## Single variate clustering\n",
    "\n",
    "multivariate not yet implemented"
   ],
   "metadata": {
    "collapsed": false
   }
  },
  {
   "cell_type": "markdown",
   "source": [
    "### Read the data\n",
    "\n",
    "Examples for different configurations are given in the comments"
   ],
   "metadata": {
    "collapsed": false
   }
  },
  {
   "cell_type": "code",
   "execution_count": 11,
   "outputs": [],
   "source": [
    "# data to read\n",
    "zip_id = ''  # provide a string of the zip_id you want to cluster\n",
    "\n",
    "# resampling rules, alternative src.stats.WeeklyTimeseries\n",
    "daily_ts = DailyTimeseries()  # clusters 'daily' time series that have 24 datapoints with at least a reading every 60min\n",
    "\n",
    "# y label\n",
    "y_sub_label = Cols.Mean\n",
    "\n",
    "# read hourly resampled data for zip id\n",
    "raw_df = ReadPreprocessedDataFrame(sampling=Hourly(), zip_id=zip_id).df\n",
    "\n",
    "# Which variates to plot. Here mean iob, mean cob, mean bg. Alternatives are std, min, max ...\n",
    "variates = Configuration.resampled_mean_columns()\n",
    "cluster_by = [GeneralisedCols.mean_iob.value]  # which variate to cluster by\n",
    "\n",
    "# class to translate the resampled data into x train and provides other convenient functions\n",
    "translate = ReshapeResampledDataIntoTimeseries(raw_df, daily_ts, variates)"
   ],
   "metadata": {
    "collapsed": false
   }
  },
  {
   "cell_type": "markdown",
   "source": [
    "### Cluster the data"
   ],
   "metadata": {
    "collapsed": false
   }
  },
  {
   "cell_type": "code",
   "execution_count": null,
   "outputs": [],
   "source": [
    "# create 1d and 3d numpy array for x_train of shape (n_ts, ts_length, dimensions)\n",
    "x_train = translate.to_x_train(cluster_by)  # ts for variate to cluster by\n",
    "x_full = translate.to_x_train()  # ts for all variates\n",
    "\n",
    "# cluster data\n",
    "ac = AgglomerativeTSClustering(x_train=x_train, x_train_column_names=['IOB'], timeseries_description=daily_ts,\n",
    "                               x_full=x_full, x_full_column_names=[\"IOB\", \"COB\", \"BG\"])"
   ],
   "metadata": {
    "collapsed": false
   }
  },
  {
   "cell_type": "markdown",
   "source": [
    "### Different visualisations of outcome"
   ],
   "metadata": {
    "collapsed": false
   }
  },
  {
   "cell_type": "code",
   "execution_count": null,
   "outputs": [],
   "source": [
    "ac.no_clusters  # number of resulting clusters"
   ],
   "metadata": {
    "collapsed": false
   }
  },
  {
   "cell_type": "code",
   "execution_count": null,
   "outputs": [],
   "source": [
    "# resulting clusters with barycenter\n",
    "only_display_clusters_with_multiple_ts = True  # there might be too many single ts clusters if this is set to false\n",
    "ac.plot_clusters_in_grid(y_sub_label, only_display_multiple_ts_clusters=only_display_clusters_with_multiple_ts)"
   ],
   "metadata": {
    "collapsed": false
   }
  },
  {
   "cell_type": "code",
   "execution_count": null,
   "outputs": [],
   "source": [
    "# dendrogram\n",
    "ac.plot_dendrogram(p=5, no_labels=True)"
   ],
   "metadata": {
    "collapsed": false
   }
  },
  {
   "cell_type": "code",
   "execution_count": null,
   "outputs": [],
   "source": [
    "# silhouette analysis for non singleton clusters\n",
    "ac.plot_silhouette_analysis()"
   ],
   "metadata": {
    "collapsed": false
   }
  },
  {
   "cell_type": "markdown",
   "source": [
    "### Change Distance Metric\n",
    "By default, AgglomerativeTSClustering uses DTW as distance measure. You can provide additional parameters to specify a Sakoe Chiba, see dtw metrics from tslearn which is used to calculate the distance matrix."
   ],
   "metadata": {
    "collapsed": false
   }
  },
  {
   "cell_type": "code",
   "execution_count": null,
   "outputs": [],
   "source": [
    "constraint = \"sakoe_chiba\"\n",
    "band_size = 2  # allows for max 2h of time warping\n",
    "metric = \"dtw\"\n",
    "ac_sk = AgglomerativeTSClustering(x_train=x_train, x_train_column_names=['IOB'], timeseries_description=daily_ts,\n",
    "                                  x_full=x_full, x_full_column_names=[\"IOB\", \"COB\", \"BG\"],\n",
    "                                  distance_constraint=constraint, sakoe_chiba_radius=band_size)"
   ],
   "metadata": {
    "collapsed": false
   }
  },
  {
   "cell_type": "code",
   "execution_count": null,
   "outputs": [],
   "source": [
    "ac_sk.plot_dendrogram(p=5, no_labels=True)"
   ],
   "metadata": {
    "collapsed": false
   }
  },
  {
   "cell_type": "code",
   "execution_count": null,
   "outputs": [],
   "source": [
    "ac_sk.plot_silhouette_analysis()"
   ],
   "metadata": {
    "collapsed": false
   }
  },
  {
   "cell_type": "code",
   "execution_count": null,
   "outputs": [],
   "source": [],
   "metadata": {
    "collapsed": false
   }
  }
 ],
 "metadata": {
  "kernelspec": {
   "display_name": "Python 3",
   "language": "python",
   "name": "python3"
  },
  "language_info": {
   "codemirror_mode": {
    "name": "ipython",
    "version": 2
   },
   "file_extension": ".py",
   "mimetype": "text/x-python",
   "name": "python",
   "nbconvert_exporter": "python",
   "pygments_lexer": "ipython2",
   "version": "2.7.6"
  }
 },
 "nbformat": 4,
 "nbformat_minor": 0
}
