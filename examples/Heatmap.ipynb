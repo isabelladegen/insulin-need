{
 "cells": [
  {
   "cell_type": "markdown",
   "source": [
    "# Examples on how to use the code for generating heatmaps"
   ],
   "metadata": {
    "collapsed": false
   }
  },
  {
   "cell_type": "code",
   "execution_count": null,
   "outputs": [],
   "source": [
    "import numpy as np\n",
    "\n",
    "from src.configurations import Configuration\n",
    "from src.continuous_series import ContinuousSeries, Resolution\n",
    "from src.helper import device_status_file_path_for\n",
    "from src.multiple_zip_and_continuous_series import MultipleZipAndContinuousSeries\n",
    "from src.read import read_flat_device_status_df_from_file\n",
    "from src.stats import WeeklyTimeseries"
   ],
   "metadata": {
    "collapsed": false
   }
  },
  {
   "cell_type": "code",
   "execution_count": null,
   "outputs": [],
   "source": [
    "# Configurations on how to sample the time series\n",
    "max_interval = 180  # how frequent readings need per day, 60=every hour, 180=every three hours\n",
    "min_days_of_data = 1  # how many days of consecutive readings with at least a reading every max interval, 7 = a week\n",
    "sample_rule = '1D'  # the frequency of the regular time series after resampling\n",
    "time_col = 'openaps/enacted/timestamp'\n",
    "iob_col = 'openaps/enacted/IOB'\n",
    "cob_col = 'openaps/enacted/COB'\n",
    "bg_col = 'openaps/enacted/bg'"
   ],
   "metadata": {
    "collapsed": false
   }
  },
  {
   "cell_type": "code",
   "execution_count": null,
   "outputs": [],
   "source": [
    "# you can also use the convenient class Sampling for standard weekly and daily sampling\n",
    "sampling = WeeklyTimeseries() # or DailyTimeseries to get hourly sampling\n",
    "max_interval = sampling.max_interval\n",
    "min_days_of_data = sampling.min_days_of_data\n",
    "sample_rule = sampling.sample_rule\n",
    "time_col = sampling.time_col\n",
    "iob_col = sampling.iob_col\n",
    "cob_col = sampling.cob_col\n",
    "bg_col = sampling.bg_col"
   ],
   "metadata": {
    "collapsed": false
   }
  },
  {
   "cell_type": "markdown",
   "source": [
    "## Plot heatmap for single person"
   ],
   "metadata": {
    "collapsed": false
   }
  },
  {
   "cell_type": "code",
   "execution_count": null,
   "outputs": [],
   "source": [
    "# Read the data\n",
    "zip_id = '' # set to a valid zip id\n",
    "file_path = device_status_file_path_for(Configuration().perid_data_folder, zip_id)\n",
    "full_df = read_flat_device_status_df_from_file(file_path, Configuration())"
   ],
   "metadata": {
    "collapsed": false
   }
  },
  {
   "cell_type": "code",
   "execution_count": null,
   "outputs": [],
   "source": [
    "iob_series = ContinuousSeries(full_df, min_days_of_data, max_interval, time_col, iob_col, sample_rule)"
   ],
   "metadata": {
    "collapsed": false
   }
  },
  {
   "cell_type": "code",
   "execution_count": null,
   "outputs": [],
   "source": [
    "# plots the iob heatmap for the zip id, note you can provide an aggfunc on how the values get aggregated for each pixel in the heatmap, e.g. aggfunc=np.min, default is np.mean\n",
    "iob_series.plot_heatmap_resampled(resolution=Resolution.DaysMonths)"
   ],
   "metadata": {
    "collapsed": false
   }
  },
  {
   "cell_type": "markdown",
   "source": [
    "## Plot heatmap for multiple people\n",
    "This plots IOB, COB and BG for one or more people"
   ],
   "metadata": {
    "collapsed": false
   }
  },
  {
   "cell_type": "code",
   "execution_count": null,
   "outputs": [],
   "source": [
    "ids = ['',] # provide an array of all the ids you want to plot heatmaps for\n",
    "mcs = MultipleZipAndContinuousSeries(ids, min_days_of_data, max_interval, time_col, [iob_col, cob_col, bg_col],\n",
    "                               sample_rule)\n",
    "mcs.plot_heatmaps()"
   ],
   "metadata": {
    "collapsed": false
   }
  }
 ],
 "metadata": {
  "kernelspec": {
   "display_name": "Python 3",
   "language": "python",
   "name": "python3"
  },
  "language_info": {
   "codemirror_mode": {
    "name": "ipython",
    "version": 2
   },
   "file_extension": ".py",
   "mimetype": "text/x-python",
   "name": "python",
   "nbconvert_exporter": "python",
   "pygments_lexer": "ipython2",
   "version": "2.7.6"
  }
 },
 "nbformat": 4,
 "nbformat_minor": 0
}
