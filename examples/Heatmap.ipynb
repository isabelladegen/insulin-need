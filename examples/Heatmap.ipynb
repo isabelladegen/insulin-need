{
 "cells": [
  {
   "cell_type": "markdown",
   "source": [
    "# Heathmaps\n",
    "\n",
    "Some examples of how to generate different resolution heatmaps.\n",
    "\n",
    "You can generate heatmaps for differently sampled time series for each zip_id:\n",
    "- Irregular: Data preprocessed but not resampled\n",
    "- Daily: Irregular data down sampled into a daily value (mean, min, max, std). Each day needs to have at least one reading every 180 min to be considered\n",
    "- Hourly: Irregular data down sampled into an hourly value (mean, min, max, std). Each hour needs at least on reading to be included\n",
    "\n",
    "Also check the doc strings in the Heatmap class for differnt parameters to customise the plots\n",
    "\n",
    "Pre-requisition:\n",
    "- Irregular: create preprocessed irregular csv files using the 'write_preprocessed_device_status_file.py' script\n",
    "- Hourly & Daily: create hourly and daily down sampled csv files using the 'write_resampled_device_status_file.py' script\n"
   ],
   "metadata": {
    "collapsed": false
   }
  },
  {
   "cell_type": "code",
   "execution_count": 6,
   "outputs": [],
   "source": [
    "from src.heatmap import Heatmap, Months, Weekdays, Hours\n",
    "from src.configurations import Irregular, GeneralisedCols, Hourly, Daily\n",
    "from src.read_preprocessed_df import ReadPreprocessedDataFrame"
   ],
   "metadata": {
    "collapsed": false
   }
  },
  {
   "cell_type": "markdown",
   "source": [
    "# Irregular Heatmaps"
   ],
   "metadata": {
    "collapsed": false
   }
  },
  {
   "cell_type": "code",
   "execution_count": null,
   "outputs": [],
   "source": [
    "zip_id = ''\n",
    "irregular_sampling = Irregular()\n",
    "\n",
    "# read irregular df\n",
    "df = ReadPreprocessedDataFrame(sampling=irregular_sampling, zip_id=zip_id).df\n",
    "\n",
    "heatmap = Heatmap(df, irregular_sampling)\n",
    "\n",
    "# change as required\n",
    "variates_to_plot = [GeneralisedCols.iob.value, GeneralisedCols.cob.value, GeneralisedCols.bg.value]\n",
    "heatmap.plot_heatmap(plot_rows=variates_to_plot, x_axis=Months(), y_axis=Weekdays())\n",
    "heatmap.plot_heatmap(plot_rows=variates_to_plot, x_axis=Hours(), y_axis=Weekdays())\n",
    "heatmap.plot_heatmap(plot_rows=variates_to_plot, x_axis=Hours(), y_axis=Months())"
   ],
   "metadata": {
    "collapsed": false,
    "pycharm": {
     "is_executing": true
    }
   }
  },
  {
   "cell_type": "markdown",
   "source": [
    "# Hourly Heatmaps"
   ],
   "metadata": {
    "collapsed": false
   }
  },
  {
   "cell_type": "code",
   "execution_count": null,
   "outputs": [],
   "source": [
    "zip_id = ''\n",
    "hourly_sampling = Hourly()\n",
    "df = ReadPreprocessedDataFrame(sampling=hourly_sampling, zip_id=zip_id).df\n",
    "\n",
    "heatmap = Heatmap(df, hourly_sampling)\n",
    "\n",
    "# change as required\n",
    "# try (mean, min, max, std) down sampled aggregate values\n",
    "variates_to_plot = [GeneralisedCols.mean_iob.value, GeneralisedCols.mean_cob.value, GeneralisedCols.mean_bg.value]\n",
    "heatmap.plot_heatmap(plot_rows=variates_to_plot, x_axis=Months(), y_axis=Weekdays())\n",
    "heatmap.plot_heatmap(plot_rows=variates_to_plot, x_axis=Hours(), y_axis=Weekdays())\n",
    "heatmap.plot_heatmap(plot_rows=variates_to_plot, x_axis=Hours(), y_axis=Months())"
   ],
   "metadata": {
    "collapsed": false,
    "pycharm": {
     "is_executing": true
    }
   }
  },
  {
   "cell_type": "markdown",
   "source": [
    "# Daily Heatmaps"
   ],
   "metadata": {
    "collapsed": false
   }
  },
  {
   "cell_type": "code",
   "execution_count": null,
   "outputs": [],
   "source": [
    "zip_id = '14092221'\n",
    "daily_sampling = Daily()\n",
    "df = ReadPreprocessedDataFrame(sampling=daily_sampling, zip_id=zip_id).df\n",
    "\n",
    "heatmap = Heatmap(df, daily_sampling)\n",
    "\n",
    "# change as required\n",
    "# try (mean, min, max, std) down sampled aggregate values\n",
    "variates_to_plot = [GeneralisedCols.mean_iob.value, GeneralisedCols.mean_cob.value, GeneralisedCols.mean_bg.value]\n",
    "heatmap.plot_heatmap(plot_rows=variates_to_plot, x_axis=Months(), y_axis=Weekdays())"
   ],
   "metadata": {
    "collapsed": false,
    "pycharm": {
     "is_executing": true
    }
   }
  },
  {
   "cell_type": "markdown",
   "source": [
    "# Multiple Individual\n",
    "\n",
    "Example on daily data. You can use all of the above variations"
   ],
   "metadata": {
    "collapsed": false
   }
  },
  {
   "cell_type": "code",
   "execution_count": null,
   "outputs": [],
   "source": [
    "daily_sampling = Daily()\n",
    "\n",
    "df = ReadPreprocessedDataFrame(sampling=daily_sampling).df # reads all individuals if no zip id given\n",
    "\n",
    "heatmap = Heatmap(df, daily_sampling)\n",
    "\n",
    "# change as required\n",
    "# try (mean, min, max, std) down sampled aggregate values\n",
    "variates_to_plot = [GeneralisedCols.mean_iob.value, GeneralisedCols.mean_cob.value, GeneralisedCols.mean_bg.value]\n",
    "zip_ids = ['86025410','4762925','13029224'] # too many won't look well\n",
    "heatmap.plot_heatmap(plot_rows=variates_to_plot, zip_ids=zip_ids, x_axis=Months(), y_axis=Weekdays())"
   ],
   "metadata": {
    "collapsed": false,
    "pycharm": {
     "is_executing": true
    }
   }
  }
 ],
 "metadata": {
  "kernelspec": {
   "display_name": "Python 3",
   "language": "python",
   "name": "python3"
  },
  "language_info": {
   "codemirror_mode": {
    "name": "ipython",
    "version": 2
   },
   "file_extension": ".py",
   "mimetype": "text/x-python",
   "name": "python",
   "nbconvert_exporter": "python",
   "pygments_lexer": "ipython2",
   "version": "2.7.6"
  }
 },
 "nbformat": 4,
 "nbformat_minor": 0
}
